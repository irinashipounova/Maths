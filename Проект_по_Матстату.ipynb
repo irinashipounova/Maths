{
  "nbformat": 4,
  "nbformat_minor": 0,
  "metadata": {
    "colab": {
      "provenance": [],
      "authorship_tag": "ABX9TyN0XicxULN3gKcRYTC+rQob",
      "include_colab_link": true
    },
    "kernelspec": {
      "name": "python3",
      "display_name": "Python 3"
    },
    "language_info": {
      "name": "python"
    }
  },
  "cells": [
    {
      "cell_type": "markdown",
      "metadata": {
        "id": "view-in-github",
        "colab_type": "text"
      },
      "source": [
        "<a href=\"https://colab.research.google.com/github/irinashipounova/Maths/blob/main/%D0%9F%D1%80%D0%BE%D0%B5%D0%BA%D1%82_%D0%BF%D0%BE_%D0%9C%D0%B0%D1%82%D1%81%D1%82%D0%B0%D1%82%D1%83.ipynb\" target=\"_parent\"><img src=\"https://colab.research.google.com/assets/colab-badge.svg\" alt=\"Open In Colab\"/></a>"
      ]
    },
    {
      "cell_type": "code",
      "execution_count": null,
      "metadata": {
        "id": "a4OSB6rnFAqU"
      },
      "outputs": [],
      "source": [
        "import numpy as np\n"
      ]
    },
    {
      "cell_type": "markdown",
      "source": [
        "Пусть y1 - уровень экспрессии гена ALPL, y2 - уровень экспрессии гена PTHR1, y3 - уровень экспрессии гена SPP1, y4 - уровень экспрессии гена BGLAP."
      ],
      "metadata": {
        "id": "itN3sfKwGoQr"
      }
    },
    {
      "cell_type": "code",
      "source": [
        "y1 = np.array([0.173993611, 0.011689055, 0.057286478, 0.912670322, 1.087117967, 1.186394276, 0.130779223, 1.026961957, 0.183822469, 0.302185734, 0.38966726])\n",
        "y2 = np.array([0.020182802, 0.0, 0.021167631, 0.078173729, 0.305906581, 0.016977479, 0.266638316, 0.006777721, 0.134330207, 0.038923388, 0.00654714])\n",
        "y3 = np.array([0.132325031, 3.601489389, 1.689748358, 0.093969029, 0.121059051, 1.059695905, 0.441028372, 0.360569971, 0.766160486, 0.143179452, 0.391707761])\n",
        "y4 = np.array([0.164215216, 1.219944603, 1.778394272, 0.715048416, 0.786543716, 0.734518373, 0.404642294, 0.82108052, 0.362878133, 0.212687896, 0.858664303])"
      ],
      "metadata": {
        "id": "x2x30IKHGCXh"
      },
      "execution_count": null,
      "outputs": []
    },
    {
      "cell_type": "code",
      "source": [
        "n1 = len(y1)\n",
        "n2 = len(y2)\n",
        "n3 = len(y3)\n",
        "n4 = len(y4)\n",
        "n = n1 + n2 + n3 + n4\n",
        "n"
      ],
      "metadata": {
        "colab": {
          "base_uri": "https://localhost:8080/"
        },
        "id": "RuyQAuMu-U2m",
        "outputId": "039f3259-5aa4-4734-b1ad-af45ac45cb00"
      },
      "execution_count": null,
      "outputs": [
        {
          "output_type": "execute_result",
          "data": {
            "text/plain": [
              "44"
            ]
          },
          "metadata": {},
          "execution_count": 29
        }
      ]
    },
    {
      "cell_type": "code",
      "source": [
        "#всего групп 4\n",
        "k = 4"
      ],
      "metadata": {
        "id": "eE6m0EqI-6KV"
      },
      "execution_count": null,
      "outputs": []
    },
    {
      "cell_type": "markdown",
      "source": [
        "Проведем однофакторный дисперсионный анализ. Сначала найдем средний уровень экспрессии гена в каждой группе:"
      ],
      "metadata": {
        "id": "NZKqqHkj_w1A"
      }
    },
    {
      "cell_type": "code",
      "source": [
        "y1_mean = np.mean(y1)\n",
        "y1_mean"
      ],
      "metadata": {
        "colab": {
          "base_uri": "https://localhost:8080/"
        },
        "id": "LtGVZFML_ss5",
        "outputId": "fc0b158a-a1f1-48cd-db03-160ac02e78d7"
      },
      "execution_count": null,
      "outputs": [
        {
          "output_type": "execute_result",
          "data": {
            "text/plain": [
              "0.4965971229090909"
            ]
          },
          "metadata": {},
          "execution_count": 31
        }
      ]
    },
    {
      "cell_type": "code",
      "source": [
        "y2_mean = np.mean(y2)\n",
        "y2_mean"
      ],
      "metadata": {
        "colab": {
          "base_uri": "https://localhost:8080/"
        },
        "id": "FZFosu4C_5og",
        "outputId": "c03cd171-0098-483b-cb25-980c1fd9eaa0"
      },
      "execution_count": null,
      "outputs": [
        {
          "output_type": "execute_result",
          "data": {
            "text/plain": [
              "0.08142045400000002"
            ]
          },
          "metadata": {},
          "execution_count": 32
        }
      ]
    },
    {
      "cell_type": "code",
      "source": [
        "y3_mean = np.mean(y3)\n",
        "y3_mean"
      ],
      "metadata": {
        "colab": {
          "base_uri": "https://localhost:8080/"
        },
        "id": "0_szxZOn_68h",
        "outputId": "f99f2660-5971-4229-b877-b8718c2ba61b"
      },
      "execution_count": null,
      "outputs": [
        {
          "output_type": "execute_result",
          "data": {
            "text/plain": [
              "0.8000848004545454"
            ]
          },
          "metadata": {},
          "execution_count": 33
        }
      ]
    },
    {
      "cell_type": "code",
      "source": [
        "y4_mean = np.mean(y4)\n",
        "y4_mean"
      ],
      "metadata": {
        "colab": {
          "base_uri": "https://localhost:8080/"
        },
        "outputId": "d1390448-2375-43d9-9e2a-c56c7894f261",
        "id": "qm_uYYzBIW8z"
      },
      "execution_count": null,
      "outputs": [
        {
          "output_type": "execute_result",
          "data": {
            "text/plain": [
              "0.732601612909091"
            ]
          },
          "metadata": {},
          "execution_count": 34
        }
      ]
    },
    {
      "cell_type": "code",
      "source": [
        "y_all = np.concatenate([y1, y2, y3, y4])"
      ],
      "metadata": {
        "id": "e3K2pAUXALym"
      },
      "execution_count": null,
      "outputs": []
    },
    {
      "cell_type": "code",
      "source": [
        "y_mean = np.mean(y_all)\n",
        "y_mean"
      ],
      "metadata": {
        "colab": {
          "base_uri": "https://localhost:8080/"
        },
        "id": "e0I2AUNmAUVm",
        "outputId": "d5d9f357-d594-4e1f-8a3d-a47292d35fd8"
      },
      "execution_count": null,
      "outputs": [
        {
          "output_type": "execute_result",
          "data": {
            "text/plain": [
              "0.5276759975681817"
            ]
          },
          "metadata": {},
          "execution_count": 36
        }
      ]
    },
    {
      "cell_type": "code",
      "source": [
        "s2 = np.sum((y_all - y_mean)**2)\n",
        "s2_f = ((y1_mean - y_mean)**2) * n1 + ((y2_mean - y_mean)**2) * n2 + ((y3_mean - y_mean)**2) * n3 + ((y4_mean - y_mean)**2) * n4"
      ],
      "metadata": {
        "id": "g24xEDtjpibJ"
      },
      "execution_count": null,
      "outputs": []
    },
    {
      "cell_type": "code",
      "source": [
        "eta2 = s2_f / s2\n",
        "eta2"
      ],
      "metadata": {
        "colab": {
          "base_uri": "https://localhost:8080/"
        },
        "id": "glSal--hp12J",
        "outputId": "5ec22bae-6488-4b2a-f9e0-6dce56a702e2"
      },
      "execution_count": null,
      "outputs": [
        {
          "output_type": "execute_result",
          "data": {
            "text/plain": [
              "0.18390425947592207"
            ]
          },
          "metadata": {},
          "execution_count": 38
        }
      ]
    },
    {
      "cell_type": "markdown",
      "source": [
        "Не все группы статистически достоверно отличаются друг от друга.\n",
        "\n",
        "Попарный т-тест с поправкой Бонферрони (количество попарных сравнений - 6, значит, пороговое значение p = 0.05/6 = 0,008)."
      ],
      "metadata": {
        "id": "47CbnXYkHv_f"
      }
    },
    {
      "cell_type": "code",
      "source": [
        "from scipy import stats "
      ],
      "metadata": {
        "id": "MFaH3FOhqnJY"
      },
      "execution_count": null,
      "outputs": []
    },
    {
      "cell_type": "code",
      "source": [
        "tval12, pval12 = stats.ttest_ind(y1, y2) \n",
        "print(\"t = \" + str(tval12)) \n",
        "print(\"p = \" + str(pval12)) \n"
      ],
      "metadata": {
        "colab": {
          "base_uri": "https://localhost:8080/"
        },
        "id": "uGi15MdKrU80",
        "outputId": "4944ad77-84bd-4a7a-ea76-1670e2551d9e"
      },
      "execution_count": null,
      "outputs": [
        {
          "output_type": "stream",
          "name": "stdout",
          "text": [
            "t = 2.9286438277423255\n",
            "p = 0.00830495012988769\n"
          ]
        }
      ]
    },
    {
      "cell_type": "markdown",
      "source": [
        "**р равно 0.008, следовательно, экспрессия гена PTHR1 статистически достоверно НЕ отличается от экспрессии гена ALPL.**"
      ],
      "metadata": {
        "id": "O6f_l3xdrrPY"
      }
    },
    {
      "cell_type": "code",
      "source": [
        "correlation_12 = np.corrcoef(y1, y2)\n",
        "correlation_12"
      ],
      "metadata": {
        "colab": {
          "base_uri": "https://localhost:8080/"
        },
        "id": "6KbrQ3-xhGQS",
        "outputId": "4fc3dd0b-6571-43d4-9303-bbd5df3ee763"
      },
      "execution_count": null,
      "outputs": [
        {
          "output_type": "execute_result",
          "data": {
            "text/plain": [
              "array([[1.        , 0.13014595],\n",
              "       [0.13014595, 1.        ]])"
            ]
          },
          "metadata": {},
          "execution_count": 41
        }
      ]
    },
    {
      "cell_type": "markdown",
      "source": [
        "**экспрессия гена PTHR1 статистически достоверно не коррелирует с экспрессией гена ALPL**"
      ],
      "metadata": {
        "id": "h7-EVVHsK-Ii"
      }
    },
    {
      "cell_type": "code",
      "source": [
        "tval13, pval13 = stats.ttest_ind(y1, y3) \n",
        "print(\"t = \" + str(tval13)) \n",
        "print(\"p = \" + str(pval13)) \n"
      ],
      "metadata": {
        "colab": {
          "base_uri": "https://localhost:8080/"
        },
        "outputId": "e1a4bce3-0186-4003-a609-63575695cdc9",
        "id": "K_KZ6fqJr6xC"
      },
      "execution_count": null,
      "outputs": [
        {
          "output_type": "stream",
          "name": "stdout",
          "text": [
            "t = -0.8785625819345391\n",
            "p = 0.3900717576941217\n"
          ]
        }
      ]
    },
    {
      "cell_type": "markdown",
      "source": [
        "**р больше 0.008, следовательно, экспрессия гена SPP1 статистически достоверно НЕ отличается от экспрессии гена ALPL.**"
      ],
      "metadata": {
        "id": "FNwVsLK6sFsq"
      }
    },
    {
      "cell_type": "code",
      "source": [
        "correlation_13 = np.corrcoef(y1, y3)\n",
        "correlation_13"
      ],
      "metadata": {
        "colab": {
          "base_uri": "https://localhost:8080/"
        },
        "outputId": "684ebff9-dde4-4bcd-ff9c-87ffc3470362",
        "id": "AqsgKjABLNcu"
      },
      "execution_count": null,
      "outputs": [
        {
          "output_type": "execute_result",
          "data": {
            "text/plain": [
              "array([[ 1.        , -0.40988776],\n",
              "       [-0.40988776,  1.        ]])"
            ]
          },
          "metadata": {},
          "execution_count": 43
        }
      ]
    },
    {
      "cell_type": "markdown",
      "source": [
        "**экспрессия гена SPP1 статистически достоверно не коррелирует с экспрессией гена ALPL**"
      ],
      "metadata": {
        "id": "Az_nhR-eLSat"
      }
    },
    {
      "cell_type": "code",
      "source": [
        "tval14, pval14 = stats.ttest_ind(y1, y4) \n",
        "print(\"t = \" + str(tval14)) \n",
        "print(\"p = \" + str(pval14)) \n"
      ],
      "metadata": {
        "colab": {
          "base_uri": "https://localhost:8080/"
        },
        "outputId": "28a8965d-e587-44cc-c77e-2f8ee9f9436a",
        "id": "_KtKTp8TsPWJ"
      },
      "execution_count": null,
      "outputs": [
        {
          "output_type": "stream",
          "name": "stdout",
          "text": [
            "t = -1.1953651576981013\n",
            "p = 0.24592636712583407\n"
          ]
        }
      ]
    },
    {
      "cell_type": "markdown",
      "source": [
        "**р больше 0.008, следовательно, экспрессия гена BGLAP статистически достоверно НЕ отличается от экспрессии гена ALPL.**"
      ],
      "metadata": {
        "id": "fi5xj6N6sUsx"
      }
    },
    {
      "cell_type": "code",
      "source": [
        "correlation_14 = np.corrcoef(y1, y4)\n",
        "correlation_14"
      ],
      "metadata": {
        "colab": {
          "base_uri": "https://localhost:8080/"
        },
        "outputId": "837c86a9-ddf1-4b50-cfcf-cc40a9bac310",
        "id": "0vRVy5qEZ1MM"
      },
      "execution_count": null,
      "outputs": [
        {
          "output_type": "execute_result",
          "data": {
            "text/plain": [
              "array([[ 1.        , -0.05429641],\n",
              "       [-0.05429641,  1.        ]])"
            ]
          },
          "metadata": {},
          "execution_count": 45
        }
      ]
    },
    {
      "cell_type": "markdown",
      "source": [
        "**экспрессия гена BGLAP статистически достоверно не коррелирует с экспрессией гена ALPL**"
      ],
      "metadata": {
        "id": "OuTSzs4VZ52k"
      }
    },
    {
      "cell_type": "code",
      "source": [
        "tval23, pval23 = stats.ttest_ind(y2, y3) \n",
        "print(\"t = \" + str(tval23)) \n",
        "print(\"p = \" + str(pval23)) \n"
      ],
      "metadata": {
        "colab": {
          "base_uri": "https://localhost:8080/"
        },
        "outputId": "932b9e0e-2eb2-405a-82df-7fa3c00d6bf2",
        "id": "sBss1ZzpJk8i"
      },
      "execution_count": null,
      "outputs": [
        {
          "output_type": "stream",
          "name": "stdout",
          "text": [
            "t = -2.257020387573023\n",
            "p = 0.035350098860501666\n"
          ]
        }
      ]
    },
    {
      "cell_type": "markdown",
      "source": [
        "**р больше 0.008, следовательно, экспрессия гена PTHR1 статистически достоверно НЕ отличается от экспрессии гена SPP1.**"
      ],
      "metadata": {
        "id": "d8eK3ndyJw8R"
      }
    },
    {
      "cell_type": "code",
      "source": [
        "correlation_23 = np.corrcoef(y2, y3)\n",
        "correlation_23"
      ],
      "metadata": {
        "colab": {
          "base_uri": "https://localhost:8080/"
        },
        "outputId": "95ccd7e1-0425-4024-dad2-0e869a3214eb",
        "id": "dk1hyTFaaALh"
      },
      "execution_count": null,
      "outputs": [
        {
          "output_type": "execute_result",
          "data": {
            "text/plain": [
              "array([[ 1.        , -0.33618819],\n",
              "       [-0.33618819,  1.        ]])"
            ]
          },
          "metadata": {},
          "execution_count": 47
        }
      ]
    },
    {
      "cell_type": "markdown",
      "source": [
        "**экспрессия гена SPP1 статистически достоверно не коррелирует с экспрессией гена PTHR1**"
      ],
      "metadata": {
        "id": "t4VoaVG6aOQ3"
      }
    },
    {
      "cell_type": "code",
      "source": [
        "tval24, pval24 = stats.ttest_ind(y2, y4) \n",
        "print(\"t = \" + str(tval24)) \n",
        "print(\"p = \" + str(pval24)) \n"
      ],
      "metadata": {
        "colab": {
          "base_uri": "https://localhost:8080/"
        },
        "outputId": "c2eb4d24-2607-4047-f96a-a3d9d4a0c5c5",
        "id": "K5wfm0nVJ-1W"
      },
      "execution_count": null,
      "outputs": [
        {
          "output_type": "stream",
          "name": "stdout",
          "text": [
            "t = -4.489294372771562\n",
            "p = 0.000224296670724338\n"
          ]
        }
      ]
    },
    {
      "cell_type": "markdown",
      "source": [
        "**р меньше 0.008, следовательно, экспрессия гена PTHR1 статистически достоверно отличается от экспрессии гена BGLAP.**"
      ],
      "metadata": {
        "id": "8LDIJBUkKE_b"
      }
    },
    {
      "cell_type": "code",
      "source": [
        "correlation_24 = np.corrcoef(y2, y4)\n",
        "correlation_24"
      ],
      "metadata": {
        "colab": {
          "base_uri": "https://localhost:8080/"
        },
        "outputId": "bc265bd7-a4e6-4d90-9e9c-7c3904a7eebf",
        "id": "erSEM6LoaUMw"
      },
      "execution_count": null,
      "outputs": [
        {
          "output_type": "execute_result",
          "data": {
            "text/plain": [
              "array([[ 1.      , -0.254876],\n",
              "       [-0.254876,  1.      ]])"
            ]
          },
          "metadata": {},
          "execution_count": 49
        }
      ]
    },
    {
      "cell_type": "markdown",
      "source": [
        "**экспрессия гена BGLAP статистически достоверно не коррелирует с экспрессией гена PTHR1**"
      ],
      "metadata": {
        "id": "HexOSKWlaaRP"
      }
    },
    {
      "cell_type": "code",
      "source": [
        "tval34, pval34 = stats.ttest_ind(y3, y4) \n",
        "print(\"t = \" + str(tval34)) \n",
        "print(\"p = \" + str(pval34)) \n"
      ],
      "metadata": {
        "colab": {
          "base_uri": "https://localhost:8080/"
        },
        "outputId": "28d04b27-e0c6-44e9-cb4f-3b79082bc86b",
        "id": "m83Hu-UcKOYW"
      },
      "execution_count": null,
      "outputs": [
        {
          "output_type": "stream",
          "name": "stdout",
          "text": [
            "t = 0.19458882760490112\n",
            "p = 0.8476778742032526\n"
          ]
        }
      ]
    },
    {
      "cell_type": "markdown",
      "source": [
        "**р больше 0.008, следовательно, экспрессия гена BGLAP статистически достоверно НЕ отличается от экспрессии гена SPP1.**"
      ],
      "metadata": {
        "id": "ySyzEOOiKVJi"
      }
    },
    {
      "cell_type": "code",
      "source": [
        "correlation_34 = np.corrcoef(y3, y4)\n",
        "correlation_34"
      ],
      "metadata": {
        "colab": {
          "base_uri": "https://localhost:8080/"
        },
        "outputId": "a087fe04-543e-41f3-afb4-65e8edf67b21",
        "id": "8z3UeWTvahA1"
      },
      "execution_count": null,
      "outputs": [
        {
          "output_type": "execute_result",
          "data": {
            "text/plain": [
              "array([[1.        , 0.61617655],\n",
              "       [0.61617655, 1.        ]])"
            ]
          },
          "metadata": {},
          "execution_count": 51
        }
      ]
    },
    {
      "cell_type": "markdown",
      "source": [
        "**экспрессия гена BGLAP статистически достоверно коррелирует с экспрессией гена SPP1**"
      ],
      "metadata": {
        "id": "1KlWpmWZanPs"
      }
    },
    {
      "cell_type": "markdown",
      "source": [
        "# **Итог: статистически достоверно различаются уровни экспрессии генов PTHR1 и BGLAP. Экспрессия гена BGLAP положительно коррелирует с экспрессией гена SPP1.**"
      ],
      "metadata": {
        "id": "YuRZxh7QZijf"
      }
    }
  ]
}